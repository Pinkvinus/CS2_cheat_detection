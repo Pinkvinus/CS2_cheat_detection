{
 "cells": [
  {
   "cell_type": "code",
   "execution_count": 2,
   "id": "202ec780",
   "metadata": {},
   "outputs": [],
   "source": [
    "import pandas as pd\n",
    "import json\n",
    "import os\n",
    "import matplotlib.pyplot as plt\n",
    "import numpy as np\n"
   ]
  },
  {
   "cell_type": "code",
   "execution_count": 6,
   "id": "eebc9047",
   "metadata": {},
   "outputs": [],
   "source": [
    "folder_dir = r\"C:\\Users\\gluzk\\Desktop\\context_windows\\not_cheater\"\n",
    "\n",
    "files = os.listdir(folder_dir)"
   ]
  },
  {
   "cell_type": "code",
   "execution_count": 19,
   "id": "9fbbb463",
   "metadata": {},
   "outputs": [
    {
     "name": "stdout",
     "output_type": "stream",
     "text": [
      "Saved: cdata-notcheater-file_0-Player_1-kill_0_aug0.parquet\n",
      "Saved: cdata-notcheater-file_0-Player_1-kill_0_aug1.parquet\n",
      "Saved: cdata-notcheater-file_0-Player_1-kill_1_aug0.parquet\n",
      "Saved: cdata-notcheater-file_0-Player_1-kill_1_aug1.parquet\n",
      "Saved: cdata-notcheater-file_0-Player_1-kill_2_aug0.parquet\n",
      "Saved: cdata-notcheater-file_0-Player_1-kill_2_aug1.parquet\n"
     ]
    }
   ],
   "source": [
    "axes = [\"X\", \"Y\", \"Z\"]\n",
    "aug_amount = 2\n",
    "noise_std = 0.01\n",
    "\n",
    "for file in files:\n",
    "    df = pd.read_parquet(folder_dir + \"\\\\\" + file)\n",
    "\n",
    "    for aug_idx in range(aug_amount):\n",
    "        df_aug = df.copy()\n",
    "\n",
    "        for axis in axes:\n",
    "\n",
    "            attacker_col = f\"attacker_{axis}\"\n",
    "            victim_col = f\"victim_{axis}\"\n",
    "\n",
    "            if attacker_col in df.columns and victim_col in df.columns:\n",
    "                noise = np.random.normal(loc=0.0, scale=noise_std, size=len(df))\n",
    "\n",
    "                df_aug[attacker_col] = np.clip(df_aug[attacker_col] + noise, 0.0, 1.0)\n",
    "                df_aug[victim_col] = np.clip(df_aug[victim_col] + noise, 0.0, 1.0)\n",
    "            else:\n",
    "                raise Exception(\"not all column values found\")\n",
    "            \n",
    "        new_filename = file.replace(\".parquet\", f\"_aug{aug_idx}.parquet\")\n",
    "\n",
    "        df_aug = df_aug.astype(np.float32)\n",
    "        df_aug.to_parquet(os.path.join(folder_dir, new_filename), index=False)\n",
    "\n",
    "        print(f\"Saved: {new_filename}\")"
   ]
  },
  {
   "cell_type": "code",
   "execution_count": 18,
   "id": "1f1530d0",
   "metadata": {},
   "outputs": [
    {
     "data": {
      "text/plain": [
       "array([-0.00757917,  0.00378219, -0.00211886, ...,  0.00947155,\n",
       "       -0.00713943, -0.01004316])"
      ]
     },
     "execution_count": 18,
     "metadata": {},
     "output_type": "execute_result"
    }
   ],
   "source": [
    "noise = np.random.normal(loc=0.0, scale=noise_std, size=1024)\n",
    "noise"
   ]
  }
 ],
 "metadata": {
  "kernelspec": {
   "display_name": "Python 3",
   "language": "python",
   "name": "python3"
  },
  "language_info": {
   "codemirror_mode": {
    "name": "ipython",
    "version": 3
   },
   "file_extension": ".py",
   "mimetype": "text/x-python",
   "name": "python",
   "nbconvert_exporter": "python",
   "pygments_lexer": "ipython3",
   "version": "3.11.5"
  }
 },
 "nbformat": 4,
 "nbformat_minor": 5
}
