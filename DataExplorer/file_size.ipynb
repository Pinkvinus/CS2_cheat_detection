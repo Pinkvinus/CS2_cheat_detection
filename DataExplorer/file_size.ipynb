{
 "cells": [
  {
   "cell_type": "markdown",
   "metadata": {},
   "source": [
    "This notebook aims at checking out the data file sizes and so on"
   ]
  },
  {
   "cell_type": "code",
   "execution_count": 2,
   "metadata": {},
   "outputs": [
    {
     "name": "stdout",
     "output_type": "stream",
     "text": [
      "Cheater path     : ../Dataset/Data/with_cheater_present\n",
      "No cheaters path : ../Dataset/Data/no_cheater_present\n"
     ]
    }
   ],
   "source": [
    "import pandas as pd\n",
    "import matplotlib.pyplot as plt\n",
    "from pathlib import Path\n",
    "import json\n",
    "import os\n",
    "\n",
    "DATA_PATH = Path(\"../Dataset/Data\")\n",
    "NO_CHEATER_PATH = Path.joinpath(DATA_PATH, 'no_cheater_present')\n",
    "CHEATER_PATH = Path.joinpath(DATA_PATH, 'with_cheater_present')\n",
    "\n",
    "EVENT_FILE_TYPE = \".json\"\n",
    "TICK_FILE_TYPE = \".parquet\"\n",
    "\n",
    "print(f\"Cheater path     : {CHEATER_PATH}\")\n",
    "print(f\"No cheaters path : {NO_CHEATER_PATH}\")"
   ]
  },
  {
   "cell_type": "code",
   "execution_count": 10,
   "metadata": {},
   "outputs": [
    {
     "name": "stdout",
     "output_type": "stream",
     "text": [
      "avg rows : 725019.4258675079317/317\n",
      "avg col  : 225.17981072555204\n"
     ]
    }
   ],
   "source": [
    "num_files = 0\n",
    "num_rows = 0\n",
    "num_columns = 0\n",
    "\n",
    "\n",
    "l = len([file for file in CHEATER_PATH.glob(\"*\" + TICK_FILE_TYPE)])\n",
    "\n",
    "\n",
    "for tick_file in CHEATER_PATH.glob(\"*\" + TICK_FILE_TYPE):\n",
    "    df = pd.read_parquet(tick_file)\n",
    "    row, col = df.shape\n",
    "\n",
    "    num_rows = num_rows + row\n",
    "    num_columns = num_columns + col\n",
    "\n",
    "    num_files = num_files + 1\n",
    "\n",
    "    print(f\"Number of processed files : {num_files}/{l}\", end='\\r')\n",
    "\n",
    "print(f\"avg rows : {num_rows/num_files}\")\n",
    "print(f\"avg col  : {num_columns/num_files}\")"
   ]
  },
  {
   "cell_type": "code",
   "execution_count": null,
   "metadata": {},
   "outputs": [
    {
     "name": "stdout",
     "output_type": "stream",
     "text": [
      "avg rows : 1056786.797071129878/478\n",
      "avg col  : 224.73430962343096\n"
     ]
    }
   ],
   "source": [
    "num_nch_files = 0\n",
    "num_nch_rows = 0\n",
    "num_nch_columns = 0\n",
    "\n",
    "\n",
    "l = len([file for file in NO_CHEATER_PATH.glob(\"*\" + TICK_FILE_TYPE)])\n",
    "\n",
    "\n",
    "for tick_file in NO_CHEATER_PATH.glob(\"*\" + TICK_FILE_TYPE):\n",
    "    df = pd.read_parquet(tick_file)\n",
    "    row, col = df.shape\n",
    "\n",
    "    num_nch_rows = num_nch_rows + row\n",
    "    num_nch_columns = num_nch_columns + col\n",
    "\n",
    "    num_nch_files = num_nch_files + 1\n",
    "\n",
    "    print(f\"Number of processed files : {num_nch_files}/{l}\", end='\\r')\n",
    "\n",
    "print(f\"avg rows : {num_nch_rows/num_nch_files}.\")\n",
    "print(f\"avg col  : {num_nch_columns/num_nch_files}.\")"
   ]
  },
  {
   "cell_type": "code",
   "execution_count": 5,
   "metadata": {},
   "outputs": [
    {
     "name": "stdout",
     "output_type": "stream",
     "text": [
      "1781806.2229386377\n",
      "449.91412034898303\n",
      "890903.1114693189\n",
      "224.95706017449152\n"
     ]
    }
   ],
   "source": [
    "print(1056786.797071129878 + 725019.4258675079317)\n",
    "print(224.73430962343096 + 225.17981072555204)\n",
    "\n",
    "print(1781806.2229386377/2)\n",
    "print(449.91412034898303/2)"
   ]
  },
  {
   "cell_type": "code",
   "execution_count": null,
   "metadata": {},
   "outputs": [],
   "source": []
  }
 ],
 "metadata": {
  "kernelspec": {
   "display_name": ".venv",
   "language": "python",
   "name": "python3"
  },
  "language_info": {
   "codemirror_mode": {
    "name": "ipython",
    "version": 3
   },
   "file_extension": ".py",
   "mimetype": "text/x-python",
   "name": "python",
   "nbconvert_exporter": "python",
   "pygments_lexer": "ipython3",
   "version": "3.12.8"
  }
 },
 "nbformat": 4,
 "nbformat_minor": 2
}
