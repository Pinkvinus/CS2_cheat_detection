{
 "cells": [
  {
   "cell_type": "code",
   "execution_count": 2,
   "metadata": {},
   "outputs": [],
   "source": [
    "import pandas as pd\n",
    "import json\n",
    "import os"
   ]
  },
  {
   "cell_type": "code",
   "execution_count": 3,
   "metadata": {},
   "outputs": [
    {
     "name": "stderr",
     "output_type": "stream",
     "text": [
      "C:\\Users\\Gert\\AppData\\Local\\Temp\\ipykernel_16740\\3002570552.py:4: DtypeWarning: Columns (15,19,27,28,29,31,32,41,129,130,132,133,139,140,145,147,148,149,154,157,159,160,161,163,164,165,166,167,168,170,174,180,187,188,189,190,191,192,193,194,195,196,197) have mixed types. Specify dtype option on import or set low_memory=False.\n",
      "  match_0_ticks = pd.read_csv(filepath_or_buffer=filepath+\".csv.gz\", compression=\"gzip\")\n"
     ]
    }
   ],
   "source": [
    "filepath = \"C:\\\\Users\\\\Gert\\\\repos\\\\CS2_cheat_detection\\\\Data_Conversion_Pipeline\\\\test_data\\\\0\"\n",
    "\n",
    "# Loading csv tick data as a pd.DataFrame\n",
    "match_0_ticks = pd.read_csv(filepath_or_buffer=filepath+\".csv.gz\", compression=\"gzip\")\n",
    "\n",
    "# Loading json event data a list of tuples (str, pd.Dataframe)\n",
    "def json_2_eventlist(filepath:str) -> list:   \n",
    "    with open(filepath, \"r\") as f:\n",
    "        json_data = json.load(f)\n",
    "\n",
    "    data = []       \n",
    "\n",
    "    for key, value in json_data.items():\n",
    "        if isinstance(value, list):\n",
    "            df = pd.DataFrame(value)\n",
    "            data.append((key, df))\n",
    "\n",
    "    return data\n",
    "\n",
    "match_0_events = json_2_eventlist(filepath=filepath+\".json\")"
   ]
  },
  {
   "cell_type": "code",
   "execution_count": null,
   "metadata": {},
   "outputs": [],
   "source": [
    "ticks_before_kill = 896\n",
    "tick_after_kill = 128\n",
    "\n",
    "context_window_vals = [\"attacker_X\", \"attacker_Y\", \"attacker_Z\", \"attacker_vel_X\", \"attacker_vel_Y\", \"attacker_vel_Z\", \"attacker_pitch\", \"attacker_yaw\", \"attacker_pitch_delta\", \"attacker_yaw_delta\", \"attacker_pitch_head_delta\", \"attacker_yaw_head_delta\", \"attacker_flashed\", \"attacker_shot\", \"attacker_kill\", \"is_kill_through_smoke\", \"is_kill_wallbang\", \"attacker_midair\"]"
   ]
  },
  {
   "cell_type": "code",
   "execution_count": null,
   "metadata": {},
   "outputs": [
    {
     "data": {
      "text/plain": [
       "[16305,\n",
       " 16937,\n",
       " 17664,\n",
       " 17960,\n",
       " 24929,\n",
       " 30233,\n",
       " 31031,\n",
       " 33699,\n",
       " 34782,\n",
       " 35095,\n",
       " 37814,\n",
       " 38126,\n",
       " 40327,\n",
       " 40477,\n",
       " 40773,\n",
       " 41322,\n",
       " 44284,\n",
       " 44418,\n",
       " 44477,\n",
       " 44556,\n",
       " 47238,\n",
       " 47784,\n",
       " 47838,\n",
       " 48022,\n",
       " 51411,\n",
       " 51463,\n",
       " 51552,\n",
       " 51642,\n",
       " 51756]"
      ]
     },
     "execution_count": 32,
     "metadata": {},
     "output_type": "execute_result"
    }
   ],
   "source": [
    "player = \"Player_3\"\n",
    "player_death_idx = -1\n",
    "\n",
    "\n",
    "for idx, event in enumerate(match_0_events):\n",
    "    if event[0] == \"player_death\":\n",
    "        player_death_idx = idx\n",
    "        break\n",
    "\n",
    "player_deaths = match_0_events[player_death_idx][1]\n",
    "player_kills = player_deaths[player_deaths[\"attacker_name\"] == player]\n",
    "\n",
    "start_ticks = []\n",
    "end_ticks = []\n",
    "for tick in player_kills[\"tick\"]:\n",
    "    start_ticks.append(tick - ticks_before_kill)\n",
    "    end_ticks.append(tick + tick_after_kill)\n",
    "\n",
    "context_window = pd.DataFrame(columns=context_window_vals)\n",
    "\n",
    "for idx, tick in enumerate(start_ticks):\n"
   ]
  }
 ],
 "metadata": {
  "kernelspec": {
   "display_name": "Python 3",
   "language": "python",
   "name": "python3"
  },
  "language_info": {
   "codemirror_mode": {
    "name": "ipython",
    "version": 3
   },
   "file_extension": ".py",
   "mimetype": "text/x-python",
   "name": "python",
   "nbconvert_exporter": "python",
   "pygments_lexer": "ipython3",
   "version": "3.11.9"
  }
 },
 "nbformat": 4,
 "nbformat_minor": 2
}
